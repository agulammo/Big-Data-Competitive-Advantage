{
 "cells": [
  {
   "cell_type": "code",
   "execution_count": 1,
   "metadata": {},
   "outputs": [],
   "source": [
    "import pandas as pd\n",
    "import matplotlib.pyplot as plt \n",
    "import numpy as np\n",
    "\n",
    "#Q1 : Create a pandas data frame using the data in the ‘auto-mpg.csv’ file.\n",
    "\n",
    "df=pd.read_csv(\"D:/Downloads/auto-mpg.csv\")"
   ]
  },
  {
   "cell_type": "code",
   "execution_count": 2,
   "metadata": {},
   "outputs": [
    {
     "name": "stdout",
     "output_type": "stream",
     "text": [
      "    mpg  cylinders  displacement horsepower  weight  acceleration\n",
      "0  18.0          8         307.0        130    3504          12.0\n",
      "1  15.0          8         350.0        165    3693          11.5\n",
      "2  18.0          8         318.0        150    3436          11.0\n",
      "3  16.0          8         304.0        150    3433          12.0\n",
      "4  17.0          8         302.0        140    3449          10.5\n",
      "5  15.0          8         429.0        198    4341          10.0\n",
      "6  14.0          8         454.0        220    4354           9.0\n"
     ]
    }
   ],
   "source": [
    "#Q2 :Display the first 7 rows in the data frame.\n",
    "\n",
    "print (df.head(7))"
   ]
  },
  {
   "cell_type": "code",
   "execution_count": 3,
   "metadata": {},
   "outputs": [
    {
     "name": "stdout",
     "output_type": "stream",
     "text": [
      "<class 'pandas.core.frame.DataFrame'>\n",
      "RangeIndex: 398 entries, 0 to 397\n",
      "Data columns (total 6 columns):\n",
      "mpg             398 non-null float64\n",
      "cylinders       398 non-null int64\n",
      "displacement    398 non-null float64\n",
      "horsepower      398 non-null object\n",
      "weight          398 non-null int64\n",
      "acceleration    398 non-null float64\n",
      "dtypes: float64(3), int64(2), object(1)\n",
      "memory usage: 18.8+ KB\n",
      "None\n"
     ]
    }
   ],
   "source": [
    "# Q3 : Display the number of entries and the data types of all the fields.\n",
    "\n",
    "print (df.info())"
   ]
  },
  {
   "cell_type": "code",
   "execution_count": 4,
   "metadata": {},
   "outputs": [
    {
     "name": "stdout",
     "output_type": "stream",
     "text": [
      "[8 4 6 3 5]\n"
     ]
    }
   ],
   "source": [
    "# Q4 : Display the unique values of the ‘cylinders’ field.\n",
    "\n",
    "print (df.cylinders.unique())"
   ]
  },
  {
   "cell_type": "code",
   "execution_count": 5,
   "metadata": {},
   "outputs": [
    {
     "name": "stdout",
     "output_type": "stream",
     "text": [
      "mean :23.514572864321615\n",
      "std :7.815984312565782\n",
      "min :9.0\n",
      "max :46.6\n"
     ]
    }
   ],
   "source": [
    "# Q5 : Show the mean, std, min, and max of 'mpg' attribute.\n",
    "\n",
    "print (\"mean :\"  + str( df[\"mpg\"].mean()))\n",
    "print (\"std :\"  + str( df[\"mpg\"].std()))\n",
    "print (\"min :\"  + str( df[\"mpg\"].min()))\n",
    "print (\"max :\"  + str( df[\"mpg\"].max()))"
   ]
  },
  {
   "cell_type": "code",
   "execution_count": 17,
   "metadata": {},
   "outputs": [
    {
     "data": {
      "image/png": "[encoded data removed]",
      "text/plain": [
       "<Figure size 432x288 with 1 Axes>"
      ]
     },
     "metadata": {
      "needs_background": "light"
     },
     "output_type": "display_data"
    }
   ],
   "source": [
    "# Q6 : Plot the histogram of 'mpg' field.\n",
    "\n",
    "ax=df['mpg'].hist(label = 'mpg')\n",
    "ax.legend(loc='upper right')\n",
    "plt.title(\"Histogram of mpg\")\n",
    "\n",
    "plt.show()"
   ]
  },
  {
   "cell_type": "code",
   "execution_count": 7,
   "metadata": {},
   "outputs": [
    {
     "name": "stdout",
     "output_type": "stream",
     "text": [
      "                 mpg  displacement       weight  acceleration\n",
      "cylinders                                                    \n",
      "3          20.550000     72.500000  2398.500000     13.250000\n",
      "4          29.286765    109.796569  2308.127451     16.601471\n",
      "5          27.366667    145.000000  3103.333333     18.633333\n",
      "6          19.985714    218.142857  3198.226190     16.263095\n",
      "8          14.963107    345.009709  4114.718447     12.955340\n"
     ]
    }
   ],
   "source": [
    "# Q7 : Create a new data frame that groups the entries by ‘cylinders’ and aggregates them by taking the mean for all the fields. Display the new data frame.\n",
    "\n",
    "df_aggreagate = df.groupby('cylinders').mean()\n",
    "print (df_aggreagate)"
   ]
  },
  {
   "cell_type": "code",
   "execution_count": 8,
   "metadata": {},
   "outputs": [
    {
     "name": "stdout",
     "output_type": "stream",
     "text": [
      "[3, 4, 5, 6, 8]\n"
     ]
    }
   ],
   "source": [
    "# Q8 : Display the index of the new data frame.\n",
    "\n",
    "data_top = df_aggreagate.head()  \n",
    "print (list(data_top.index.values) )"
   ]
  },
  {
   "cell_type": "code",
   "execution_count": 9,
   "metadata": {},
   "outputs": [
    {
     "name": "stdout",
     "output_type": "stream",
     "text": [
      "                 mpg  displacement       weight  acceleration  disp_per_cyl\n",
      "cylinders                                                                  \n",
      "3          20.550000     72.500000  2398.500000     13.250000     24.166667\n",
      "4          29.286765    109.796569  2308.127451     16.601471     27.449142\n",
      "5          27.366667    145.000000  3103.333333     18.633333     29.000000\n",
      "6          19.985714    218.142857  3198.226190     16.263095     36.357143\n",
      "8          14.963107    345.009709  4114.718447     12.955340     43.126214\n"
     ]
    }
   ],
   "source": [
    "# Q9 : Create a new field ‘disp_per_cyl’ that gives the displacement per cylinder.\n",
    "\n",
    "df_aggreagate['disp_per_cyl'] =df_aggreagate.apply(lambda row: row.displacement/row.name, axis = 1) \n",
    "print(df_aggreagate)"
   ]
  },
  {
   "cell_type": "code",
   "execution_count": 10,
   "metadata": {},
   "outputs": [
    {
     "data": {
      "image/png": "[encoded data removed]",
      "text/plain": [
       "<Figure size 432x288 with 1 Axes>"
      ]
     },
     "metadata": {
      "needs_background": "light"
     },
     "output_type": "display_data"
    }
   ],
   "source": [
    "# Q10 : Create a bar plot for ‘mpg’ vs ‘cylinders’.\n",
    "\n",
    "df_aggreagate.plot.bar(y='mpg') \n",
    "plt.ylabel(\"mpg\")\n",
    "plt.title(\"mpg vs cylinders\")\n",
    "\n",
    "plt.show()"
   ]
  },
  {
   "cell_type": "code",
   "execution_count": 11,
   "metadata": {},
   "outputs": [
    {
     "data": {
      "image/png": "[encoded data removed]",
      "text/plain": [
       "<Figure size 432x288 with 1 Axes>"
      ]
     },
     "metadata": {
      "needs_background": "light"
     },
     "output_type": "display_data"
    }
   ],
   "source": [
    "# Q11 : Create a line plot for ‘disp per cyl’ vs ‘cylinders’.\n",
    "\n",
    "df_aggreagate.plot.line(y='disp_per_cyl')\n",
    "plt.ylabel(\"disp_per_cyl\")\n",
    "plt.title(\"disp_per_cyl vs cylinders\")\n",
    "plt.show()"
   ]
  },
  {
   "cell_type": "code",
   "execution_count": 12,
   "metadata": {},
   "outputs": [],
   "source": [
    "# Q12 : Save the new data frame into a file name 'summary.csv'.\n",
    "\n",
    "df_aggreagate.to_csv(\"D:/Downloads/summary.csv\")"
   ]
  },
  {
   "cell_type": "code",
   "execution_count": 13,
   "metadata": {},
   "outputs": [
    {
     "name": "stdout",
     "output_type": "stream",
     "text": [
      "[[20.55       24.16666667]\n",
      " [29.28676471 27.44914216]\n",
      " [27.36666667 29.        ]\n",
      " [19.98571429 36.35714286]\n",
      " [14.9631068  43.12621359]]\n"
     ]
    }
   ],
   "source": [
    "# Q13 : Create and display a numpy matrix using only the ‘mpg’ and ‘disp_per_cyl’ fields.\n",
    "\n",
    "np_matrix = np.array(df_aggreagate[['mpg', 'disp_per_cyl']])\n",
    "print (np_matrix)"
   ]
  },
  {
   "cell_type": "code",
   "execution_count": 14,
   "metadata": {},
   "outputs": [
    {
     "name": "stdout",
     "output_type": "stream",
     "text": [
      "[[20.55       29.28676471 27.36666667 19.98571429 14.9631068 ]\n",
      " [24.16666667 27.44914216 29.         36.35714286 43.12621359]]\n"
     ]
    }
   ],
   "source": [
    "# Q14 : Display the transpose of the new numpy matrix.\n",
    "\n",
    "print (np_matrix.transpose())"
   ]
  },
  {
   "cell_type": "code",
   "execution_count": 15,
   "metadata": {},
   "outputs": [
    {
     "name": "stdout",
     "output_type": "stream",
     "text": [
      "[27.36666667 29.        ]\n"
     ]
    }
   ],
   "source": [
    "# Q15 : Create and display a copy of the third column of the transposed matrix.\n",
    "\n",
    "np_copy = np_matrix.transpose()[:,2]\n",
    "print (np_copy)"
   ]
  }
 ],
 "metadata": {
  "kernelspec": {
   "display_name": "Python 3",
   "language": "python",
   "name": "python3"
  },
  "language_info": {
   "codemirror_mode": {
    "name": "ipython",
    "version": 3
   },
   "file_extension": ".py",
   "mimetype": "text/x-python",
   "name": "python",
   "nbconvert_exporter": "python",
   "pygments_lexer": "ipython3",
   "version": "3.7.4"
  }
 },
 "nbformat": 4,
 "nbformat_minor": 2
}
