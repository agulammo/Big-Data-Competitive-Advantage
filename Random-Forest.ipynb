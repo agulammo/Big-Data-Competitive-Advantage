{
 "cells": [
  {
   "cell_type": "code",
   "execution_count": 1,
   "metadata": {},
   "outputs": [],
   "source": [
    "# import libraries\n",
    "import numpy as np\n",
    "from sklearn import preprocessing\n",
    "from sklearn.model_selection import train_test_split\n",
    "from sklearn.linear_model import LogisticRegressionCV\n",
    "from sklearn.ensemble import RandomForestClassifier\n",
    "from sklearn.datasets import make_classification\n",
    "\n",
    "from sklearn.metrics import roc_curve, auc\n",
    "import matplotlib.pyplot as plt\n",
    "%matplotlib inline"
   ]
  },
  {
   "cell_type": "code",
   "execution_count": 2,
   "metadata": {},
   "outputs": [
    {
     "name": "stdout",
     "output_type": "stream",
     "text": [
      "No. samples =  10000\n",
      "No. features =  10\n"
     ]
    }
   ],
   "source": [
    "# load the dataset\n",
    "n_samples = 10000\n",
    "n_features = 10\n",
    "\n",
    "X_raw, y_raw = make_classification(n_samples=10000, n_features=10, n_informative=7, n_redundant=0, n_repeated=0, random_state=0, \n",
    "                                   n_classes=2, weights=[0.9, 0.1], shuffle=False)\n",
    "\n",
    "n_samples, n_features = X_raw.shape\n",
    "print('No. samples = ', n_samples)\n",
    "print('No. features = ', n_features)"
   ]
  },
  {
   "cell_type": "code",
   "execution_count": 3,
   "metadata": {},
   "outputs": [],
   "source": [
    "# split in train and test\n",
    "X_train, X_test, y_train, y_test = train_test_split(X_raw, y_raw, test_size=0.33, random_state=0)\n",
    "\n",
    "# scale train dataset\n",
    "scaler = preprocessing.StandardScaler().fit(X_train)\n",
    "X_train_scaled = scaler.transform(X_train)\n",
    "\n",
    "# scale test dataset\n",
    "X_test_scaled = scaler.transform(X_test)"
   ]
  },
  {
   "cell_type": "code",
   "execution_count": 4,
   "metadata": {},
   "outputs": [
    {
     "data": {
      "text/plain": [
       "LogisticRegressionCV(Cs=100, class_weight=None, cv=10, dual=False,\n",
       "                     fit_intercept=True, intercept_scaling=1.0, l1_ratios=None,\n",
       "                     max_iter=100, multi_class='multinomial', n_jobs=-1,\n",
       "                     penalty='l2', random_state=0, refit=True, scoring=None,\n",
       "                     solver='lbfgs', tol=0.0001, verbose=0)"
      ]
     },
     "execution_count": 4,
     "metadata": {},
     "output_type": "execute_result"
    }
   ],
   "source": [
    "# train logistic regression & cross validation\n",
    "clf_L2 = LogisticRegressionCV(Cs=100, cv=10, penalty='l2', random_state=0, multi_class='multinomial', solver='lbfgs', n_jobs=-1)\n",
    "clf_L2.fit(X_train_scaled, y_train)"
   ]
  },
  {
   "cell_type": "code",
   "execution_count": 5,
   "metadata": {},
   "outputs": [
    {
     "name": "stdout",
     "output_type": "stream",
     "text": [
      "LR AUC =  0.7635294117647058\n"
     ]
    }
   ],
   "source": [
    "# Compute ROC curve and ROC area for each class\n",
    "LR_y_score = clf_L2.predict_proba(X_test_scaled)[:,1]\n",
    "LR_fpr, LR_tpr, LR_thresholds = roc_curve(y_test, LR_y_score)\n",
    "LR_roc_auc = auc(LR_fpr, LR_tpr)\n",
    "print('LR AUC = ', LR_roc_auc)"
   ]
  },
  {
   "cell_type": "code",
   "execution_count": 6,
   "metadata": {},
   "outputs": [
    {
     "data": {
      "text/plain": [
       "RandomForestClassifier(bootstrap=True, class_weight=None, criterion='gini',\n",
       "                       max_depth=5, max_features='auto', max_leaf_nodes=None,\n",
       "                       min_impurity_decrease=0.0, min_impurity_split=None,\n",
       "                       min_samples_leaf=1, min_samples_split=2,\n",
       "                       min_weight_fraction_leaf=0.0, n_estimators=100,\n",
       "                       n_jobs=None, oob_score=False, random_state=0, verbose=0,\n",
       "                       warm_start=False)"
      ]
     },
     "execution_count": 6,
     "metadata": {},
     "output_type": "execute_result"
    }
   ],
   "source": [
    "# train Random Forest\n",
    "clf_RF = RandomForestClassifier(n_estimators=100, max_depth=5, random_state=0)\n",
    "clf_RF.fit(X_train_scaled, y_train)"
   ]
  },
  {
   "cell_type": "code",
   "execution_count": 7,
   "metadata": {
    "scrolled": true
   },
   "outputs": [
    {
     "name": "stdout",
     "output_type": "stream",
     "text": [
      "RF AUC =  0.9190217607313196\n"
     ]
    }
   ],
   "source": [
    "# Compute ROC curve and ROC area for each class\n",
    "RF_y_score = clf_RF.predict_proba(X_test_scaled)[:,1]\n",
    "RF_fpr, RF_tpr, RF_thresholds = roc_curve(y_test, RF_y_score)\n",
    "RF_roc_auc = auc(RF_fpr, RF_tpr)\n",
    "print('RF AUC = ', RF_roc_auc)"
   ]
  },
  {
   "cell_type": "code",
   "execution_count": 8,
   "metadata": {},
   "outputs": [
    {
     "name": "stdout",
     "output_type": "stream",
     "text": [
      "[0]\ttrain-auc:0.79978\tvalid-auc:0.77215\n",
      "[1]\ttrain-auc:0.86495\tvalid-auc:0.84832\n",
      "[2]\ttrain-auc:0.90573\tvalid-auc:0.87332\n",
      "[3]\ttrain-auc:0.91144\tvalid-auc:0.87406\n",
      "[4]\ttrain-auc:0.92061\tvalid-auc:0.88487\n",
      "[5]\ttrain-auc:0.92977\tvalid-auc:0.88989\n",
      "[6]\ttrain-auc:0.93080\tvalid-auc:0.89098\n",
      "[7]\ttrain-auc:0.93441\tvalid-auc:0.89310\n",
      "[8]\ttrain-auc:0.94864\tvalid-auc:0.90637\n",
      "[9]\ttrain-auc:0.95161\tvalid-auc:0.91017\n",
      "[10]\ttrain-auc:0.95595\tvalid-auc:0.91464\n",
      "[11]\ttrain-auc:0.95829\tvalid-auc:0.92056\n",
      "[12]\ttrain-auc:0.95965\tvalid-auc:0.92161\n",
      "[13]\ttrain-auc:0.96460\tvalid-auc:0.92609\n",
      "[14]\ttrain-auc:0.97052\tvalid-auc:0.93349\n",
      "[15]\ttrain-auc:0.97232\tvalid-auc:0.93461\n",
      "[16]\ttrain-auc:0.97449\tvalid-auc:0.93766\n",
      "[17]\ttrain-auc:0.97714\tvalid-auc:0.94162\n",
      "[18]\ttrain-auc:0.97756\tvalid-auc:0.94165\n",
      "[19]\ttrain-auc:0.97795\tvalid-auc:0.94334\n",
      "[20]\ttrain-auc:0.97879\tvalid-auc:0.94303\n",
      "[21]\ttrain-auc:0.97927\tvalid-auc:0.94365\n",
      "[22]\ttrain-auc:0.98013\tvalid-auc:0.94429\n",
      "[23]\ttrain-auc:0.98203\tvalid-auc:0.94726\n",
      "[24]\ttrain-auc:0.98296\tvalid-auc:0.94796\n",
      "[25]\ttrain-auc:0.98345\tvalid-auc:0.94838\n",
      "[26]\ttrain-auc:0.98448\tvalid-auc:0.95177\n",
      "[27]\ttrain-auc:0.98456\tvalid-auc:0.95204\n",
      "[28]\ttrain-auc:0.98530\tvalid-auc:0.95218\n",
      "[29]\ttrain-auc:0.98560\tvalid-auc:0.95259\n",
      "[30]\ttrain-auc:0.98586\tvalid-auc:0.95330\n",
      "[31]\ttrain-auc:0.98628\tvalid-auc:0.95305\n",
      "[32]\ttrain-auc:0.98668\tvalid-auc:0.95375\n",
      "[33]\ttrain-auc:0.98681\tvalid-auc:0.95407\n",
      "[34]\ttrain-auc:0.98701\tvalid-auc:0.95412\n",
      "[35]\ttrain-auc:0.98729\tvalid-auc:0.95450\n",
      "[36]\ttrain-auc:0.98734\tvalid-auc:0.95450\n",
      "[37]\ttrain-auc:0.98750\tvalid-auc:0.95580\n",
      "[38]\ttrain-auc:0.98818\tvalid-auc:0.95622\n",
      "[39]\ttrain-auc:0.98846\tvalid-auc:0.95664\n",
      "[40]\ttrain-auc:0.98902\tvalid-auc:0.95648\n",
      "[41]\ttrain-auc:0.98958\tvalid-auc:0.95609\n",
      "[42]\ttrain-auc:0.98973\tvalid-auc:0.95622\n",
      "[43]\ttrain-auc:0.98988\tvalid-auc:0.95578\n",
      "[44]\ttrain-auc:0.99001\tvalid-auc:0.95553\n",
      "[45]\ttrain-auc:0.99025\tvalid-auc:0.95550\n",
      "[46]\ttrain-auc:0.99082\tvalid-auc:0.95547\n",
      "[47]\ttrain-auc:0.99079\tvalid-auc:0.95523\n",
      "[48]\ttrain-auc:0.99112\tvalid-auc:0.95522\n",
      "[49]\ttrain-auc:0.99157\tvalid-auc:0.95691\n"
     ]
    }
   ],
   "source": [
    "import xgboost as xgb \n",
    "xg_trn_data = xgb.DMatrix(X_train, label=y_train)\n",
    "xg_vld_data = xgb.DMatrix(X_test, label=y_test)\n",
    "\n",
    "num_round = 50\n",
    "xgb_param = {\"objective\": \"binary:logitraw\" ,\n",
    "            \"eval_metric\": \"auc\",\n",
    "            'eta': 0.4, 'booster': 'gbtree', 'max_depth': 3}\n",
    "watchlist = [(xg_trn_data, \"train\"), (xg_vld_data, \"valid\")]\n",
    "\n",
    "bst = xgb.train(xgb_param, xg_trn_data, num_round, watchlist)\n",
    "XG_y = bst.predict(xgb.DMatrix(X_test), ntree_limit=bst.best_iteration+1)\n",
    "  \n",
    "XG_fpr, XG_tpr, _ = roc_curve(y_test, XG_y)\n",
    "XG_roc_auc = auc(XG_fpr, XG_tpr)"
   ]
  },
  {
   "cell_type": "code",
   "execution_count": 9,
   "metadata": {},
   "outputs": [
    {
     "data": {
      "image/png": "[encoded data removed]",
      "text/plain": [
       "<Figure size 432x288 with 1 Axes>"
      ]
     },
     "metadata": {
      "needs_background": "light"
     },
     "output_type": "display_data"
    }
   ],
   "source": [
    "plt.figure()\n",
    "lw = 2\n",
    "plt.plot(LR_fpr, LR_tpr, color='darkorange',\n",
    "         lw=lw, label='LR (AUC = %0.2f)' % LR_roc_auc)\n",
    "plt.plot(RF_fpr, RF_tpr, color='red',\n",
    "         lw=lw, label='RF (AUC = %0.2f)' % RF_roc_auc)\n",
    "plt.plot(XG_fpr, XG_tpr, color='green',\n",
    "         lw=lw, label='XGB (AUC = %0.2f)' % XG_roc_auc)\n",
    "plt.plot([0, 1], [0, 1], color='navy', lw=lw, linestyle='--')\n",
    "plt.xlim([-0.01, 1.0])\n",
    "plt.ylim([0.0, 1.05])\n",
    "plt.xlabel('False Positive Rate')\n",
    "plt.ylabel('True Positive Rate')\n",
    "plt.title('Receiver operating characteristic example')\n",
    "plt.legend(loc=\"lower right\")\n",
    "plt.show()"
   ]
  },
  {
   "cell_type": "code",
   "execution_count": null,
   "metadata": {},
   "outputs": [],
   "source": []
  }
 ],
 "metadata": {
  "kernelspec": {
   "display_name": "Python 3",
   "language": "python",
   "name": "python3"
  },
  "language_info": {
   "codemirror_mode": {
    "name": "ipython",
    "version": 3
   },
   "file_extension": ".py",
   "mimetype": "text/x-python",
   "name": "python",
   "nbconvert_exporter": "python",
   "pygments_lexer": "ipython3",
   "version": "3.7.4"
  }
 },
 "nbformat": 4,
 "nbformat_minor": 4
}
